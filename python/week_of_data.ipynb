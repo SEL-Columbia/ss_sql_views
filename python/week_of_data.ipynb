{
 "metadata": {
  "name": "week_of_data"
 }, 
 "nbformat": 2, 
 "worksheets": [
  {
   "cells": [
    {
     "cell_type": "code", 
     "collapsed": true, 
     "input": [
      "import offline_gateway as og", 
      "import datetime as dt"
     ], 
     "language": "python", 
     "outputs": [], 
     "prompt_number": 1
    }, 
    {
     "cell_type": "code", 
     "collapsed": false, 
     "input": [
      "date_start = dt.datetime(2012, 1, 1)", 
      "date_end = dt.datetime(2012, 1, 3)", 
      "this_date = date_start", 
      "while 1:", 
      "    print this_date", 
      "    this_date += dt.timedelta(days=1)", 
      "    if this_date > date_end:", 
      "        break"
     ], 
     "language": "python", 
     "outputs": [
      {
       "output_type": "stream", 
       "stream": "stdout", 
       "text": [
        "2012-01-01 00:00:00", 
        "2012-01-02 00:00:00", 
        "2012-01-03 00:00:00"
       ]
      }
     ], 
     "prompt_number": 3
    }, 
    {
     "cell_type": "code", 
     "collapsed": true, 
     "input": [], 
     "language": "python", 
     "outputs": [], 
     "prompt_number": "*"
    }
   ]
  }
 ]
}